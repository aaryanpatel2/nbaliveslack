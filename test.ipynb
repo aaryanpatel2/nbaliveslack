{
 "cells": [
  {
   "cell_type": "code",
   "execution_count": 1,
   "id": "b46b81d4",
   "metadata": {},
   "outputs": [
    {
     "name": "stdout",
     "output_type": "stream",
     "text": [
      "ScoreBoardDate: 2025-06-05\n",
      "0042400401: Pacers vs. Thunder @ 2025-06-05 19:30:00-05:00\n"
     ]
    }
   ],
   "source": [
    "# Query nba.live.endpoints.scoreboard and  list games in localTimeZone\n",
    "from datetime import datetime, timezone\n",
    "from dateutil import parser\n",
    "from nba_api.live.nba.endpoints import scoreboard\n",
    "\n",
    "f = \"{gameId}: {awayTeam} vs. {homeTeam} @ {gameTimeLTZ}\" \n",
    "\n",
    "board = scoreboard.ScoreBoard()\n",
    "print(\"ScoreBoardDate: \" + board.score_board_date)\n",
    "games = board.games.get_dict()\n",
    "for game in games:\n",
    "    gameTimeLTZ = parser.parse(game[\"gameTimeUTC\"]).replace(tzinfo=timezone.utc).astimezone(tz=None)\n",
    "    print(f.format(gameId=game['gameId'], awayTeam=game['awayTeam']['teamName'], homeTeam=game['homeTeam']['teamName'], gameTimeLTZ=gameTimeLTZ))"
   ]
  },
  {
   "cell_type": "code",
   "execution_count": 1,
   "id": "7e1f8313",
   "metadata": {},
   "outputs": [
    {
     "name": "stdout",
     "output_type": "stream",
     "text": [
      "pacers_id: 1610612760\n"
     ]
    }
   ],
   "source": [
    "#Get the Pacers team_id\n",
    "from nba_api.stats.static import teams\n",
    "\n",
    "nba_teams = teams.get_teams()\n",
    "\n",
    "# Select the dictionary for the Pacers, which contains their team ID\n",
    "pacers = [team for team in nba_teams if team['abbreviation'] == 'OKC'][0]\n",
    "pacers_id = pacers['id']\n",
    "print(f'pacers_id: {pacers_id}')"
   ]
  },
  {
   "cell_type": "code",
   "execution_count": 11,
   "id": "6688f7b4",
   "metadata": {},
   "outputs": [
    {
     "name": "stdout",
     "output_type": "stream",
     "text": [
      "Searching through 82 game(s) for the game_id of 0022401196 where OKC @ NOP\n"
     ]
    }
   ],
   "source": [
    "# Query for the last regular season game where the Pacers were playing\n",
    "from nba_api.stats.endpoints import leaguegamefinder\n",
    "from nba_api.stats.library.parameters import Season\n",
    "from nba_api.stats.library.parameters import SeasonType\n",
    "\n",
    "gamefinder = leaguegamefinder.LeagueGameFinder(team_id_nullable=pacers_id,\n",
    "                            season_nullable=Season.default,\n",
    "                            season_type_nullable=SeasonType.regular)  \n",
    "\n",
    "games_dict = gamefinder.get_normalized_dict()\n",
    "games = games_dict['LeagueGameFinderResults']\n",
    "game = games[0]\n",
    "game_id = game['GAME_ID']\n",
    "game_matchup = game['MATCHUP']\n",
    "\n",
    "print(f'Searching through {len(games)} game(s) for the game_id of {game_id} where {game_matchup}')"
   ]
  },
  {
   "cell_type": "code",
   "execution_count": 8,
   "id": "7356a0e1",
   "metadata": {},
   "outputs": [
    {
     "name": "stdout",
     "output_type": "stream",
     "text": [
      "[]\n"
     ]
    }
   ],
   "source": [
    "from datetime import datetime, timezone\n",
    "from dateutil import parser\n",
    "\n",
    "now = datetime.now(timezone.utc)\n",
    "games = board.games.get_dict()\n",
    "future_games = []\n",
    "for game in games:\n",
    "    game_time_utc = parser.parse(game[\"gameTimeUTC\"]).replace(tzinfo=timezone.utc)\n",
    "    if game_time_utc > now:\n",
    "        gameTimeLTZ = game_time_utc.astimezone(tz=None)\n",
    "        print(f.format(gameId=game['gameId'], awayTeam=game['awayTeam']['teamName'], homeTeam=game['homeTeam']['teamName'], gameTimeLTZ=gameTimeLTZ))\n",
    "        future_games.append(game)\n",
    "print(future_games)\n"
   ]
  },
  {
   "cell_type": "code",
   "execution_count": 10,
   "id": "d7a8a8a5",
   "metadata": {},
   "outputs": [
    {
     "name": "stdout",
     "output_type": "stream",
     "text": [
      "Games on 06/05/2025:\n",
      "{'GAME_DATE_EST': '2025-06-05T00:00:00', 'GAME_SEQUENCE': 1, 'GAME_ID': '0042400401', 'GAME_STATUS_ID': 1, 'GAME_STATUS_TEXT': '8:30 pm ET', 'GAMECODE': '20250605/INDOKC', 'HOME_TEAM_ID': 1610612760, 'VISITOR_TEAM_ID': 1610612754, 'SEASON': '2024', 'LIVE_PERIOD': 0, 'LIVE_PC_TIME': '     ', 'NATL_TV_BROADCASTER_ABBREVIATION': 'ABC', 'HOME_TV_BROADCASTER_ABBREVIATION': None, 'AWAY_TV_BROADCASTER_ABBREVIATION': None, 'LIVE_PERIOD_TIME_BCAST': 'Q0       - ABC', 'ARENA_NAME': 'Paycom Center', 'WH_STATUS': 0, 'WNBA_COMMISSIONER_FLAG': 0}\n",
      "Games on 06/08/2025:\n",
      "{'GAME_DATE_EST': '2025-06-08T00:00:00', 'GAME_SEQUENCE': 1, 'GAME_ID': '0042400402', 'GAME_STATUS_ID': 1, 'GAME_STATUS_TEXT': '8:00 pm ET', 'GAMECODE': '20250608/INDOKC', 'HOME_TEAM_ID': 1610612760, 'VISITOR_TEAM_ID': 1610612754, 'SEASON': '2024', 'LIVE_PERIOD': 0, 'LIVE_PC_TIME': '     ', 'NATL_TV_BROADCASTER_ABBREVIATION': 'ABC', 'HOME_TV_BROADCASTER_ABBREVIATION': None, 'AWAY_TV_BROADCASTER_ABBREVIATION': None, 'LIVE_PERIOD_TIME_BCAST': 'Q0       - ABC', 'ARENA_NAME': 'Paycom Center', 'WH_STATUS': 0, 'WNBA_COMMISSIONER_FLAG': 0}\n"
     ]
    }
   ],
   "source": [
    "from nba_api.stats.endpoints import scoreboardv2\n",
    "from datetime import datetime, timedelta\n",
    "\n",
    "for i in range(7):\n",
    "    date = (datetime.today() + timedelta(days=i)).strftime('%m/%d/%Y')\n",
    "    scoreboard = scoreboardv2.ScoreboardV2(game_date=date)\n",
    "    games = scoreboard.get_normalized_dict()['GameHeader']\n",
    "    if games:\n",
    "        print(f\"Games on {date}:\")\n",
    "        for game in games:\n",
    "            print(game)"
   ]
  },
  {
   "cell_type": "code",
   "execution_count": null,
   "id": "a628856d",
   "metadata": {},
   "outputs": [],
   "source": []
  }
 ],
 "metadata": {
  "kernelspec": {
   "display_name": "Python 3",
   "language": "python",
   "name": "python3"
  },
  "language_info": {
   "codemirror_mode": {
    "name": "ipython",
    "version": 3
   },
   "file_extension": ".py",
   "mimetype": "text/x-python",
   "name": "python",
   "nbconvert_exporter": "python",
   "pygments_lexer": "ipython3",
   "version": "3.11.3"
  }
 },
 "nbformat": 4,
 "nbformat_minor": 5
}
